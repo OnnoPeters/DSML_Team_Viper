{
 "cells": [
  {
   "cell_type": "markdown",
   "metadata": {},
   "source": [
    "## Kommentare füge ich noch hinzu! Erstmal nur der Code.\n",
    "### Auch die Reihenfolge kann sich noch ändern\n",
    "#### Wichtig ist, dass alle Zellen über einer Zelle ausgeführt werden müssen, damit die Zellen darunter funktionieren!\n",
    "#### Außerdem, können die lambda-Methoden eine Weile dauern"
   ]
  },
  {
   "cell_type": "code",
   "execution_count": 1,
   "metadata": {},
   "outputs": [],
   "source": [
    "import pandas as pd\n",
    "import seaborn as sns\n",
    "import matplotlib.pyplot as plt\n",
    "from datetime import datetime\n",
    "from datetime import timedelta"
   ]
  },
  {
   "cell_type": "code",
   "execution_count": 2,
   "metadata": {},
   "outputs": [
    {
     "ename": "KeyboardInterrupt",
     "evalue": "",
     "output_type": "error",
     "traceback": [
      "\u001b[1;31m---------------------------------------------------------------------------\u001b[0m",
      "\u001b[1;31mKeyboardInterrupt\u001b[0m                         Traceback (most recent call last)",
      "\u001b[1;32m<ipython-input-2-ae7131e28fdc>\u001b[0m in \u001b[0;36m<module>\u001b[1;34m\u001b[0m\n\u001b[1;32m----> 1\u001b[1;33m \u001b[0mboston_2018_data\u001b[0m \u001b[1;33m=\u001b[0m \u001b[0mpd\u001b[0m\u001b[1;33m.\u001b[0m\u001b[0mread_csv\u001b[0m\u001b[1;33m(\u001b[0m\u001b[1;34m'resources/boston_2018.csv'\u001b[0m\u001b[1;33m)\u001b[0m\u001b[1;33m\u001b[0m\u001b[1;33m\u001b[0m\u001b[0m\n\u001b[0m\u001b[0;32m      2\u001b[0m \u001b[0mboston_2018_data\u001b[0m\u001b[1;33m.\u001b[0m\u001b[0mhead\u001b[0m\u001b[1;33m(\u001b[0m\u001b[1;36m10\u001b[0m\u001b[1;33m)\u001b[0m\u001b[1;33m\u001b[0m\u001b[1;33m\u001b[0m\u001b[0m\n",
      "\u001b[1;32m~\\anaconda3\\lib\\site-packages\\pandas\\io\\parsers.py\u001b[0m in \u001b[0;36mread_csv\u001b[1;34m(filepath_or_buffer, sep, delimiter, header, names, index_col, usecols, squeeze, prefix, mangle_dupe_cols, dtype, engine, converters, true_values, false_values, skipinitialspace, skiprows, skipfooter, nrows, na_values, keep_default_na, na_filter, verbose, skip_blank_lines, parse_dates, infer_datetime_format, keep_date_col, date_parser, dayfirst, cache_dates, iterator, chunksize, compression, thousands, decimal, lineterminator, quotechar, quoting, doublequote, escapechar, comment, encoding, dialect, error_bad_lines, warn_bad_lines, delim_whitespace, low_memory, memory_map, float_precision)\u001b[0m\n\u001b[0;32m    684\u001b[0m     )\n\u001b[0;32m    685\u001b[0m \u001b[1;33m\u001b[0m\u001b[0m\n\u001b[1;32m--> 686\u001b[1;33m     \u001b[1;32mreturn\u001b[0m \u001b[0m_read\u001b[0m\u001b[1;33m(\u001b[0m\u001b[0mfilepath_or_buffer\u001b[0m\u001b[1;33m,\u001b[0m \u001b[0mkwds\u001b[0m\u001b[1;33m)\u001b[0m\u001b[1;33m\u001b[0m\u001b[1;33m\u001b[0m\u001b[0m\n\u001b[0m\u001b[0;32m    687\u001b[0m \u001b[1;33m\u001b[0m\u001b[0m\n\u001b[0;32m    688\u001b[0m \u001b[1;33m\u001b[0m\u001b[0m\n",
      "\u001b[1;32m~\\anaconda3\\lib\\site-packages\\pandas\\io\\parsers.py\u001b[0m in \u001b[0;36m_read\u001b[1;34m(filepath_or_buffer, kwds)\u001b[0m\n\u001b[0;32m    456\u001b[0m \u001b[1;33m\u001b[0m\u001b[0m\n\u001b[0;32m    457\u001b[0m     \u001b[1;32mtry\u001b[0m\u001b[1;33m:\u001b[0m\u001b[1;33m\u001b[0m\u001b[1;33m\u001b[0m\u001b[0m\n\u001b[1;32m--> 458\u001b[1;33m         \u001b[0mdata\u001b[0m \u001b[1;33m=\u001b[0m \u001b[0mparser\u001b[0m\u001b[1;33m.\u001b[0m\u001b[0mread\u001b[0m\u001b[1;33m(\u001b[0m\u001b[0mnrows\u001b[0m\u001b[1;33m)\u001b[0m\u001b[1;33m\u001b[0m\u001b[1;33m\u001b[0m\u001b[0m\n\u001b[0m\u001b[0;32m    459\u001b[0m     \u001b[1;32mfinally\u001b[0m\u001b[1;33m:\u001b[0m\u001b[1;33m\u001b[0m\u001b[1;33m\u001b[0m\u001b[0m\n\u001b[0;32m    460\u001b[0m         \u001b[0mparser\u001b[0m\u001b[1;33m.\u001b[0m\u001b[0mclose\u001b[0m\u001b[1;33m(\u001b[0m\u001b[1;33m)\u001b[0m\u001b[1;33m\u001b[0m\u001b[1;33m\u001b[0m\u001b[0m\n",
      "\u001b[1;32m~\\anaconda3\\lib\\site-packages\\pandas\\io\\parsers.py\u001b[0m in \u001b[0;36mread\u001b[1;34m(self, nrows)\u001b[0m\n\u001b[0;32m   1209\u001b[0m             \u001b[0mnew_rows\u001b[0m \u001b[1;33m=\u001b[0m \u001b[0mlen\u001b[0m\u001b[1;33m(\u001b[0m\u001b[0mindex\u001b[0m\u001b[1;33m)\u001b[0m\u001b[1;33m\u001b[0m\u001b[1;33m\u001b[0m\u001b[0m\n\u001b[0;32m   1210\u001b[0m \u001b[1;33m\u001b[0m\u001b[0m\n\u001b[1;32m-> 1211\u001b[1;33m         \u001b[0mdf\u001b[0m \u001b[1;33m=\u001b[0m \u001b[0mDataFrame\u001b[0m\u001b[1;33m(\u001b[0m\u001b[0mcol_dict\u001b[0m\u001b[1;33m,\u001b[0m \u001b[0mcolumns\u001b[0m\u001b[1;33m=\u001b[0m\u001b[0mcolumns\u001b[0m\u001b[1;33m,\u001b[0m \u001b[0mindex\u001b[0m\u001b[1;33m=\u001b[0m\u001b[0mindex\u001b[0m\u001b[1;33m)\u001b[0m\u001b[1;33m\u001b[0m\u001b[1;33m\u001b[0m\u001b[0m\n\u001b[0m\u001b[0;32m   1212\u001b[0m \u001b[1;33m\u001b[0m\u001b[0m\n\u001b[0;32m   1213\u001b[0m         \u001b[0mself\u001b[0m\u001b[1;33m.\u001b[0m\u001b[0m_currow\u001b[0m \u001b[1;33m+=\u001b[0m \u001b[0mnew_rows\u001b[0m\u001b[1;33m\u001b[0m\u001b[1;33m\u001b[0m\u001b[0m\n",
      "\u001b[1;32m~\\anaconda3\\lib\\site-packages\\pandas\\core\\frame.py\u001b[0m in \u001b[0;36m__init__\u001b[1;34m(self, data, index, columns, dtype, copy)\u001b[0m\n\u001b[0;32m    466\u001b[0m \u001b[1;33m\u001b[0m\u001b[0m\n\u001b[0;32m    467\u001b[0m         \u001b[1;32melif\u001b[0m \u001b[0misinstance\u001b[0m\u001b[1;33m(\u001b[0m\u001b[0mdata\u001b[0m\u001b[1;33m,\u001b[0m \u001b[0mdict\u001b[0m\u001b[1;33m)\u001b[0m\u001b[1;33m:\u001b[0m\u001b[1;33m\u001b[0m\u001b[1;33m\u001b[0m\u001b[0m\n\u001b[1;32m--> 468\u001b[1;33m             \u001b[0mmgr\u001b[0m \u001b[1;33m=\u001b[0m \u001b[0minit_dict\u001b[0m\u001b[1;33m(\u001b[0m\u001b[0mdata\u001b[0m\u001b[1;33m,\u001b[0m \u001b[0mindex\u001b[0m\u001b[1;33m,\u001b[0m \u001b[0mcolumns\u001b[0m\u001b[1;33m,\u001b[0m \u001b[0mdtype\u001b[0m\u001b[1;33m=\u001b[0m\u001b[0mdtype\u001b[0m\u001b[1;33m)\u001b[0m\u001b[1;33m\u001b[0m\u001b[1;33m\u001b[0m\u001b[0m\n\u001b[0m\u001b[0;32m    469\u001b[0m         \u001b[1;32melif\u001b[0m \u001b[0misinstance\u001b[0m\u001b[1;33m(\u001b[0m\u001b[0mdata\u001b[0m\u001b[1;33m,\u001b[0m \u001b[0mma\u001b[0m\u001b[1;33m.\u001b[0m\u001b[0mMaskedArray\u001b[0m\u001b[1;33m)\u001b[0m\u001b[1;33m:\u001b[0m\u001b[1;33m\u001b[0m\u001b[1;33m\u001b[0m\u001b[0m\n\u001b[0;32m    470\u001b[0m             \u001b[1;32mimport\u001b[0m \u001b[0mnumpy\u001b[0m\u001b[1;33m.\u001b[0m\u001b[0mma\u001b[0m\u001b[1;33m.\u001b[0m\u001b[0mmrecords\u001b[0m \u001b[1;32mas\u001b[0m \u001b[0mmrecords\u001b[0m\u001b[1;33m\u001b[0m\u001b[1;33m\u001b[0m\u001b[0m\n",
      "\u001b[1;32m~\\anaconda3\\lib\\site-packages\\pandas\\core\\internals\\construction.py\u001b[0m in \u001b[0;36minit_dict\u001b[1;34m(data, index, columns, dtype)\u001b[0m\n\u001b[0;32m    281\u001b[0m             \u001b[0marr\u001b[0m \u001b[1;32mif\u001b[0m \u001b[1;32mnot\u001b[0m \u001b[0mis_datetime64tz_dtype\u001b[0m\u001b[1;33m(\u001b[0m\u001b[0marr\u001b[0m\u001b[1;33m)\u001b[0m \u001b[1;32melse\u001b[0m \u001b[0marr\u001b[0m\u001b[1;33m.\u001b[0m\u001b[0mcopy\u001b[0m\u001b[1;33m(\u001b[0m\u001b[1;33m)\u001b[0m \u001b[1;32mfor\u001b[0m \u001b[0marr\u001b[0m \u001b[1;32min\u001b[0m \u001b[0marrays\u001b[0m\u001b[1;33m\u001b[0m\u001b[1;33m\u001b[0m\u001b[0m\n\u001b[0;32m    282\u001b[0m         ]\n\u001b[1;32m--> 283\u001b[1;33m     \u001b[1;32mreturn\u001b[0m \u001b[0marrays_to_mgr\u001b[0m\u001b[1;33m(\u001b[0m\u001b[0marrays\u001b[0m\u001b[1;33m,\u001b[0m \u001b[0mdata_names\u001b[0m\u001b[1;33m,\u001b[0m \u001b[0mindex\u001b[0m\u001b[1;33m,\u001b[0m \u001b[0mcolumns\u001b[0m\u001b[1;33m,\u001b[0m \u001b[0mdtype\u001b[0m\u001b[1;33m=\u001b[0m\u001b[0mdtype\u001b[0m\u001b[1;33m)\u001b[0m\u001b[1;33m\u001b[0m\u001b[1;33m\u001b[0m\u001b[0m\n\u001b[0m\u001b[0;32m    284\u001b[0m \u001b[1;33m\u001b[0m\u001b[0m\n\u001b[0;32m    285\u001b[0m \u001b[1;33m\u001b[0m\u001b[0m\n",
      "\u001b[1;32m~\\anaconda3\\lib\\site-packages\\pandas\\core\\internals\\construction.py\u001b[0m in \u001b[0;36marrays_to_mgr\u001b[1;34m(arrays, arr_names, index, columns, dtype, verify_integrity)\u001b[0m\n\u001b[0;32m     91\u001b[0m     \u001b[0maxes\u001b[0m \u001b[1;33m=\u001b[0m \u001b[1;33m[\u001b[0m\u001b[0mcolumns\u001b[0m\u001b[1;33m,\u001b[0m \u001b[0mindex\u001b[0m\u001b[1;33m]\u001b[0m\u001b[1;33m\u001b[0m\u001b[1;33m\u001b[0m\u001b[0m\n\u001b[0;32m     92\u001b[0m \u001b[1;33m\u001b[0m\u001b[0m\n\u001b[1;32m---> 93\u001b[1;33m     \u001b[1;32mreturn\u001b[0m \u001b[0mcreate_block_manager_from_arrays\u001b[0m\u001b[1;33m(\u001b[0m\u001b[0marrays\u001b[0m\u001b[1;33m,\u001b[0m \u001b[0marr_names\u001b[0m\u001b[1;33m,\u001b[0m \u001b[0maxes\u001b[0m\u001b[1;33m)\u001b[0m\u001b[1;33m\u001b[0m\u001b[1;33m\u001b[0m\u001b[0m\n\u001b[0m\u001b[0;32m     94\u001b[0m \u001b[1;33m\u001b[0m\u001b[0m\n\u001b[0;32m     95\u001b[0m \u001b[1;33m\u001b[0m\u001b[0m\n",
      "\u001b[1;32m~\\anaconda3\\lib\\site-packages\\pandas\\core\\internals\\managers.py\u001b[0m in \u001b[0;36mcreate_block_manager_from_arrays\u001b[1;34m(arrays, names, axes)\u001b[0m\n\u001b[0;32m   1681\u001b[0m \u001b[1;33m\u001b[0m\u001b[0m\n\u001b[0;32m   1682\u001b[0m     \u001b[1;32mtry\u001b[0m\u001b[1;33m:\u001b[0m\u001b[1;33m\u001b[0m\u001b[1;33m\u001b[0m\u001b[0m\n\u001b[1;32m-> 1683\u001b[1;33m         \u001b[0mblocks\u001b[0m \u001b[1;33m=\u001b[0m \u001b[0mform_blocks\u001b[0m\u001b[1;33m(\u001b[0m\u001b[0marrays\u001b[0m\u001b[1;33m,\u001b[0m \u001b[0mnames\u001b[0m\u001b[1;33m,\u001b[0m \u001b[0maxes\u001b[0m\u001b[1;33m)\u001b[0m\u001b[1;33m\u001b[0m\u001b[1;33m\u001b[0m\u001b[0m\n\u001b[0m\u001b[0;32m   1684\u001b[0m         \u001b[0mmgr\u001b[0m \u001b[1;33m=\u001b[0m \u001b[0mBlockManager\u001b[0m\u001b[1;33m(\u001b[0m\u001b[0mblocks\u001b[0m\u001b[1;33m,\u001b[0m \u001b[0maxes\u001b[0m\u001b[1;33m)\u001b[0m\u001b[1;33m\u001b[0m\u001b[1;33m\u001b[0m\u001b[0m\n\u001b[0;32m   1685\u001b[0m         \u001b[0mmgr\u001b[0m\u001b[1;33m.\u001b[0m\u001b[0m_consolidate_inplace\u001b[0m\u001b[1;33m(\u001b[0m\u001b[1;33m)\u001b[0m\u001b[1;33m\u001b[0m\u001b[1;33m\u001b[0m\u001b[0m\n",
      "\u001b[1;32m~\\anaconda3\\lib\\site-packages\\pandas\\core\\internals\\managers.py\u001b[0m in \u001b[0;36mform_blocks\u001b[1;34m(arrays, names, axes)\u001b[0m\n\u001b[0;32m   1751\u001b[0m \u001b[1;33m\u001b[0m\u001b[0m\n\u001b[0;32m   1752\u001b[0m     \u001b[1;32mif\u001b[0m \u001b[0mlen\u001b[0m\u001b[1;33m(\u001b[0m\u001b[0mitems_dict\u001b[0m\u001b[1;33m[\u001b[0m\u001b[1;34m\"IntBlock\"\u001b[0m\u001b[1;33m]\u001b[0m\u001b[1;33m)\u001b[0m\u001b[1;33m:\u001b[0m\u001b[1;33m\u001b[0m\u001b[1;33m\u001b[0m\u001b[0m\n\u001b[1;32m-> 1753\u001b[1;33m         \u001b[0mint_blocks\u001b[0m \u001b[1;33m=\u001b[0m \u001b[0m_multi_blockify\u001b[0m\u001b[1;33m(\u001b[0m\u001b[0mitems_dict\u001b[0m\u001b[1;33m[\u001b[0m\u001b[1;34m\"IntBlock\"\u001b[0m\u001b[1;33m]\u001b[0m\u001b[1;33m)\u001b[0m\u001b[1;33m\u001b[0m\u001b[1;33m\u001b[0m\u001b[0m\n\u001b[0m\u001b[0;32m   1754\u001b[0m         \u001b[0mblocks\u001b[0m\u001b[1;33m.\u001b[0m\u001b[0mextend\u001b[0m\u001b[1;33m(\u001b[0m\u001b[0mint_blocks\u001b[0m\u001b[1;33m)\u001b[0m\u001b[1;33m\u001b[0m\u001b[1;33m\u001b[0m\u001b[0m\n\u001b[0;32m   1755\u001b[0m \u001b[1;33m\u001b[0m\u001b[0m\n",
      "\u001b[1;32m~\\anaconda3\\lib\\site-packages\\pandas\\core\\internals\\managers.py\u001b[0m in \u001b[0;36m_multi_blockify\u001b[1;34m(tuples, dtype)\u001b[0m\n\u001b[0;32m   1833\u001b[0m     \u001b[1;32mfor\u001b[0m \u001b[0mdtype\u001b[0m\u001b[1;33m,\u001b[0m \u001b[0mtup_block\u001b[0m \u001b[1;32min\u001b[0m \u001b[0mgrouper\u001b[0m\u001b[1;33m:\u001b[0m\u001b[1;33m\u001b[0m\u001b[1;33m\u001b[0m\u001b[0m\n\u001b[0;32m   1834\u001b[0m \u001b[1;33m\u001b[0m\u001b[0m\n\u001b[1;32m-> 1835\u001b[1;33m         \u001b[0mvalues\u001b[0m\u001b[1;33m,\u001b[0m \u001b[0mplacement\u001b[0m \u001b[1;33m=\u001b[0m \u001b[0m_stack_arrays\u001b[0m\u001b[1;33m(\u001b[0m\u001b[0mlist\u001b[0m\u001b[1;33m(\u001b[0m\u001b[0mtup_block\u001b[0m\u001b[1;33m)\u001b[0m\u001b[1;33m,\u001b[0m \u001b[0mdtype\u001b[0m\u001b[1;33m)\u001b[0m\u001b[1;33m\u001b[0m\u001b[1;33m\u001b[0m\u001b[0m\n\u001b[0m\u001b[0;32m   1836\u001b[0m \u001b[1;33m\u001b[0m\u001b[0m\n\u001b[0;32m   1837\u001b[0m         \u001b[0mblock\u001b[0m \u001b[1;33m=\u001b[0m \u001b[0mmake_block\u001b[0m\u001b[1;33m(\u001b[0m\u001b[0mvalues\u001b[0m\u001b[1;33m,\u001b[0m \u001b[0mplacement\u001b[0m\u001b[1;33m=\u001b[0m\u001b[0mplacement\u001b[0m\u001b[1;33m)\u001b[0m\u001b[1;33m\u001b[0m\u001b[1;33m\u001b[0m\u001b[0m\n",
      "\u001b[1;32m~\\anaconda3\\lib\\site-packages\\pandas\\core\\internals\\managers.py\u001b[0m in \u001b[0;36m_stack_arrays\u001b[1;34m(tuples, dtype)\u001b[0m\n\u001b[0;32m   1863\u001b[0m     \u001b[0mstacked\u001b[0m \u001b[1;33m=\u001b[0m \u001b[0mnp\u001b[0m\u001b[1;33m.\u001b[0m\u001b[0mempty\u001b[0m\u001b[1;33m(\u001b[0m\u001b[0mshape\u001b[0m\u001b[1;33m,\u001b[0m \u001b[0mdtype\u001b[0m\u001b[1;33m=\u001b[0m\u001b[0mdtype\u001b[0m\u001b[1;33m)\u001b[0m\u001b[1;33m\u001b[0m\u001b[1;33m\u001b[0m\u001b[0m\n\u001b[0;32m   1864\u001b[0m     \u001b[1;32mfor\u001b[0m \u001b[0mi\u001b[0m\u001b[1;33m,\u001b[0m \u001b[0marr\u001b[0m \u001b[1;32min\u001b[0m \u001b[0menumerate\u001b[0m\u001b[1;33m(\u001b[0m\u001b[0marrays\u001b[0m\u001b[1;33m)\u001b[0m\u001b[1;33m:\u001b[0m\u001b[1;33m\u001b[0m\u001b[1;33m\u001b[0m\u001b[0m\n\u001b[1;32m-> 1865\u001b[1;33m         \u001b[0mstacked\u001b[0m\u001b[1;33m[\u001b[0m\u001b[0mi\u001b[0m\u001b[1;33m]\u001b[0m \u001b[1;33m=\u001b[0m \u001b[0m_asarray_compat\u001b[0m\u001b[1;33m(\u001b[0m\u001b[0marr\u001b[0m\u001b[1;33m)\u001b[0m\u001b[1;33m\u001b[0m\u001b[1;33m\u001b[0m\u001b[0m\n\u001b[0m\u001b[0;32m   1866\u001b[0m \u001b[1;33m\u001b[0m\u001b[0m\n\u001b[0;32m   1867\u001b[0m     \u001b[1;32mreturn\u001b[0m \u001b[0mstacked\u001b[0m\u001b[1;33m,\u001b[0m \u001b[0mplacement\u001b[0m\u001b[1;33m\u001b[0m\u001b[1;33m\u001b[0m\u001b[0m\n",
      "\u001b[1;31mKeyboardInterrupt\u001b[0m: "
     ]
    }
   ],
   "source": [
    "boston_2018_data = pd.read_csv('resources/boston_2018.csv')\n",
    "boston_2018_data.head(10)"
   ]
  },
  {
   "cell_type": "code",
   "execution_count": null,
   "metadata": {},
   "outputs": [],
   "source": [
    "len(boston_2018_data)-len(boston_2018_data.dropna())"
   ]
  },
  {
   "cell_type": "code",
   "execution_count": null,
   "metadata": {},
   "outputs": [],
   "source": [
    "boston_2018_data_clean = boston_2018_data.dropna(axis=0)\n",
    "boston_2018_data_clean.head(1000000)"
   ]
  },
  {
   "cell_type": "code",
   "execution_count": null,
   "metadata": {},
   "outputs": [],
   "source": [
    "def clean_date(x):\n",
    "    return x.split('.')[0]\n",
    "\n",
    "boston_2018_data_clean['start_time'] = boston_2018_data_clean['start_time'].apply(lambda x: clean_date(x))\n",
    "boston_2018_data_clean['end_time'] = boston_2018_data_clean['end_time'].apply(lambda x: clean_date(x))\n",
    "boston_2018_data_clean.head(1000000)"
   ]
  },
  {
   "cell_type": "code",
   "execution_count": null,
   "metadata": {},
   "outputs": [],
   "source": [
    "def get_date(x):\n",
    "    return datetime.strptime(x, \"%Y-%m-%d %H:%M:%S\").date()\n",
    "\n",
    "def get_weekday(x):\n",
    "    return datetime.strptime(x, \"%Y-%m-%d %H:%M:%S\").weekday()\n",
    "\n",
    "def get_hour(x):\n",
    "    return datetime.strptime(x, \"%Y-%m-%d %H:%M:%S\").hour\n",
    "\n",
    "def get_month(x):\n",
    "    return datetime.strptime(x, \"%Y-%m-%d %H:%M:%S\").month"
   ]
  },
  {
   "cell_type": "code",
   "execution_count": null,
   "metadata": {},
   "outputs": [],
   "source": [
    "boston_2018_data_clean.reset_index(drop=True)\n",
    "boston_2018_data_clean['date'] = boston_2018_data_clean['start_time'].apply(lambda x: get_date(x))"
   ]
  },
  {
   "cell_type": "code",
   "execution_count": null,
   "metadata": {},
   "outputs": [],
   "source": [
    "boston_2018_data_clean['weekday'] = boston_2018_data_clean['start_time'].apply(lambda x: get_weekday(x))"
   ]
  },
  {
   "cell_type": "code",
   "execution_count": null,
   "metadata": {},
   "outputs": [],
   "source": [
    "boston_2018_data_clean['hour'] = boston_2018_data_clean['start_time'].apply(lambda x: get_hour(x))"
   ]
  },
  {
   "cell_type": "code",
   "execution_count": null,
   "metadata": {},
   "outputs": [],
   "source": [
    "boston_2018_data_clean['month'] = boston_2018_data_clean['start_time'].apply(lambda x: get_month(x))"
   ]
  },
  {
   "cell_type": "code",
   "execution_count": null,
   "metadata": {},
   "outputs": [],
   "source": [
    "boston_2018_data_clean.head(5)"
   ]
  },
  {
   "cell_type": "code",
   "execution_count": null,
   "metadata": {},
   "outputs": [],
   "source": [
    "bike_stations = pd.read_csv('resources/current_bluebikes_stations.csv')\n",
    "bike_stations.head(5)"
   ]
  },
  {
   "cell_type": "code",
   "execution_count": null,
   "metadata": {},
   "outputs": [],
   "source": [
    "len(bike_stations) - len(bike_stations.dropna())"
   ]
  },
  {
   "cell_type": "code",
   "execution_count": null,
   "metadata": {},
   "outputs": [],
   "source": [
    "bike_stations.columns = bike_stations.iloc[0]\n",
    "bike_stations.drop(bike_stations.index[0])"
   ]
  },
  {
   "cell_type": "code",
   "execution_count": null,
   "metadata": {},
   "outputs": [],
   "source": [
    "boston_2018_start_geodata = pd.merge(boston_2018_data_clean, bike_stations[['Name','Latitude', 'Longitude', 'District']], left_on=\"start_station_name\", right_on=\"Name\", how=\"left\")\n",
    "boston_2018_start_geodata = boston_2018_start_geodata.rename(columns = {'Latitude': 'latitude_start', 'Longitude': 'longitude_start', \"District\": \"district_start\"})\n",
    "boston_2018_start_geodata['start_coordinates'] = list(zip(boston_2018_start_geodata[\"latitude_start\"],boston_2018_start_geodata[\"longitude_start\"]))\n",
    "del boston_2018_start_geodata['Name']\n",
    "\n",
    "boston_2018_trip_geodata = pd.merge(boston_2018_start_geodata, bike_stations[['Name','Latitude', 'Longitude', 'District']], left_on=\"end_station_name\", right_on=\"Name\", how=\"left\")\n",
    "boston_2018_trip_geodata = boston_2018_trip_geodata.rename(columns = {'Latitude': 'latitude_end', 'Longitude': 'longitude_end', \"District\": \"district_end\"})\n",
    "boston_2018_trip_geodata['end_coordinates'] = list(zip(boston_2018_trip_geodata[\"latitude_end\"],boston_2018_trip_geodata[\"longitude_end\"]))\n",
    "del boston_2018_trip_geodata['Name']\n",
    "\n",
    "boston_2018_trip_geodata.head(5)"
   ]
  },
  {
   "cell_type": "code",
   "execution_count": null,
   "metadata": {},
   "outputs": [],
   "source": [
    "len(boston_2018_trip_geodata)-len(boston_2018_trip_geodata.dropna())"
   ]
  },
  {
   "cell_type": "code",
   "execution_count": null,
   "metadata": {},
   "outputs": [],
   "source": [
    "boston_2018_trip_geodata_clean = boston_2018_trip_geodata.dropna()\n",
    "len(boston_2018_trip_geodata_clean)-len(boston_2018_trip_geodata_clean.dropna())"
   ]
  },
  {
   "cell_type": "markdown",
   "metadata": {},
   "source": [
    "# Adding temperature data"
   ]
  },
  {
   "cell_type": "code",
   "execution_count": null,
   "metadata": {},
   "outputs": [],
   "source": [
    "boston_weather = pd.read_csv('resources/weather_hourly_boston.csv')\n",
    "boston_weather.head(10)"
   ]
  },
  {
   "cell_type": "code",
   "execution_count": null,
   "metadata": {},
   "outputs": [],
   "source": [
    "len(boston_weather) - len(boston_weather.dropna())"
   ]
  },
  {
   "cell_type": "code",
   "execution_count": null,
   "metadata": {},
   "outputs": [],
   "source": [
    "boston_weather_clean = boston_weather.dropna()\n",
    "len(boston_weather_clean) - len(boston_weather_clean.dropna())"
   ]
  },
  {
   "cell_type": "code",
   "execution_count": null,
   "metadata": {},
   "outputs": [],
   "source": [
    "boston_weather_clean.reset_index(drop=True)\n",
    "pd.options.mode.chained_assignment = None\n",
    "boston_weather_clean['date'] = boston_weather_clean['date_time'].apply(lambda x:get_date(x))\n",
    "boston_weather_clean['hour'] = boston_weather_clean['date_time'].apply(lambda x:get_hour(x))\n",
    "boston_weather_clean.head(10)"
   ]
  },
  {
   "cell_type": "code",
   "execution_count": null,
   "metadata": {},
   "outputs": [],
   "source": [
    "boston_2018_trip_geodata_with_temp = pd.merge(boston_2018_trip_geodata_clean, \n",
    "                                              boston_weather_clean[['max_temp','min_temp', 'precip', 'date', 'hour']],\n",
    "                                              on=['date', 'hour'], how=\"left\")\n",
    "boston_2018_trip_geodata_with_temp.head(5)"
   ]
  },
  {
   "cell_type": "code",
   "execution_count": null,
   "metadata": {},
   "outputs": [],
   "source": [
    "len(boston_2018_trip_geodata_with_temp)-len(boston_2018_trip_geodata_with_temp.dropna())"
   ]
  },
  {
   "cell_type": "code",
   "execution_count": null,
   "metadata": {},
   "outputs": [],
   "source": [
    "boston_2018_trip_geodata_with_temp_clean = boston_2018_trip_geodata_with_temp.dropna()\n",
    "len(boston_2018_trip_geodata_with_temp_clean)-len(boston_2018_trip_geodata_with_temp_clean.dropna())"
   ]
  },
  {
   "cell_type": "markdown",
   "metadata": {},
   "source": [
    "# Geographical Data"
   ]
  },
  {
   "cell_type": "code",
   "execution_count": null,
   "metadata": {},
   "outputs": [],
   "source": [
    "import folium\n",
    "from folium import plugins\n",
    "from folium.plugins import HeatMap\n",
    "from folium.plugins import HeatMapWithTime"
   ]
  },
  {
   "cell_type": "markdown",
   "metadata": {},
   "source": [
    "### Split data into four datasets, based on the month, and then visualize amount of start and end districts of trips for each of these datasets"
   ]
  },
  {
   "cell_type": "code",
   "execution_count": null,
   "metadata": {},
   "outputs": [],
   "source": [
    "f, axes = plt.subplots(2, 4, sharey=True, figsize=(20, 10))\n",
    "\n",
    "sns.countplot(x=\"district_start\",data=boston_2018_trip_geodata_clean[boston_2018_trip_geodata_clean[\"month\"] < 4], ax=axes[0][0],palette=\"OrRd\")\n",
    "sns.countplot(x=\"district_start\",data=boston_2018_trip_geodata_clean[(boston_2018_trip_geodata_clean[\"month\"] >= 4) & (boston_2018_trip_geodata_clean[\"month\"] < 10)], ax=axes[0][1],palette=\"OrRd\")\n",
    "sns.countplot(x=\"district_start\",data=boston_2018_trip_geodata_clean[(boston_2018_trip_geodata_clean[\"month\"] >= 7) & (boston_2018_trip_geodata_clean[\"month\"] < 10)], ax=axes[0][2],palette=\"OrRd\")\n",
    "sns.countplot(x=\"district_start\",data=boston_2018_trip_geodata_clean[(boston_2018_trip_geodata_clean[\"month\"] >= 10) & (boston_2018_trip_geodata_clean[\"month\"] < 13)], ax=axes[0][3],palette=\"OrRd\")\n",
    "\n",
    "sns.countplot(x=\"district_end\",data=boston_2018_trip_geodata_clean[boston_2018_trip_geodata_clean[\"month\"] < 4], ax=axes[1][0],palette=\"OrRd\")\n",
    "sns.countplot(x=\"district_end\",data=boston_2018_trip_geodata_clean[(boston_2018_trip_geodata_clean[\"month\"] >= 4) & (boston_2018_trip_geodata_clean[\"month\"] < 10)], ax=axes[1][1],palette=\"OrRd\")\n",
    "sns.countplot(x=\"district_end\",data=boston_2018_trip_geodata_clean[(boston_2018_trip_geodata_clean[\"month\"] >= 7) & (boston_2018_trip_geodata_clean[\"month\"] < 10)], ax=axes[1][2],palette=\"OrRd\")\n",
    "sns.countplot(x=\"district_end\",data=boston_2018_trip_geodata_clean[(boston_2018_trip_geodata_clean[\"month\"] >= 10) & (boston_2018_trip_geodata_clean[\"month\"] < 13)], ax=axes[1][3],palette=\"OrRd\")"
   ]
  },
  {
   "cell_type": "markdown",
   "metadata": {},
   "source": [
    "### Visualing amount of trips started in a district and amount of trips ended there"
   ]
  },
  {
   "cell_type": "markdown",
   "metadata": {},
   "source": [
    "Splitting data into four, based on the time of day"
   ]
  },
  {
   "cell_type": "code",
   "execution_count": null,
   "metadata": {},
   "outputs": [],
   "source": [
    "boston_2018_0_to_6 = boston_2018_trip_geodata_clean[boston_2018_trip_geodata_clean[\"hour\"] < 6]\n",
    "boston_2018_6_to_12 = boston_2018_trip_geodata_clean[(boston_2018_trip_geodata_clean[\"hour\"] >= 6) & (boston_2018_trip_geodata_clean[\"hour\"] < 12)]\n",
    "boston_2018_12_to_18 = boston_2018_trip_geodata_clean[(boston_2018_trip_geodata_clean[\"hour\"] >= 12) & (boston_2018_trip_geodata_clean[\"hour\"] < 18)]\n",
    "boston_2018_18_to_24 = boston_2018_trip_geodata_clean[(boston_2018_trip_geodata_clean[\"hour\"] >= 18) & (boston_2018_trip_geodata_clean[\"hour\"] < 24)]"
   ]
  },
  {
   "cell_type": "code",
   "execution_count": null,
   "metadata": {},
   "outputs": [],
   "source": [
    "f, axes = plt.subplots(2, 4, sharey=True, figsize=(20, 10))\n",
    "\n",
    "sns.countplot(x=\"district_start\",data=boston_2018_0_to_6, ax=axes[0][0],palette=\"OrRd\")\n",
    "sns.countplot(x=\"district_start\",data=boston_2018_6_to_12, ax=axes[0][1],palette=\"OrRd\")\n",
    "sns.countplot(x=\"district_start\",data=boston_2018_12_to_18, ax=axes[0][2],palette=\"OrRd\")\n",
    "sns.countplot(x=\"district_start\",data=boston_2018_18_to_24, ax=axes[0][3],palette=\"OrRd\")\n",
    "\n",
    "\n",
    "sns.countplot(x=\"district_end\",data=boston_2018_0_to_6, ax=axes[1][0],palette=\"OrRd\")\n",
    "sns.countplot(x=\"district_end\",data=boston_2018_6_to_12, ax=axes[1][1],palette=\"OrRd\")\n",
    "sns.countplot(x=\"district_end\",data=boston_2018_12_to_18, ax=axes[1][2],palette=\"OrRd\")\n",
    "sns.countplot(x=\"district_end\",data=boston_2018_18_to_24, ax=axes[1][3],palette=\"OrRd\")"
   ]
  },
  {
   "cell_type": "markdown",
   "metadata": {},
   "source": [
    "### Comparing number of trips started in a district with number of trips ended there and calculate the difference"
   ]
  },
  {
   "cell_type": "code",
   "execution_count": null,
   "metadata": {},
   "outputs": [],
   "source": [
    "boston_2018_0_to_6_start_count = boston_2018_0_to_6.groupby('district_start').count()\n",
    "boston_2018_6_to_12_start_count = boston_2018_6_to_12.groupby('district_start').count()\n",
    "boston_2018_12_to_18_start_count = boston_2018_12_to_18.groupby('district_start').count()\n",
    "boston_2018_18_to_24_start_count = boston_2018_18_to_24.groupby('district_start').count()\n",
    "\n",
    "boston_2018_0_to_6_end_count = boston_2018_0_to_6.groupby('district_end').count()\n",
    "boston_2018_6_to_12_end_count = boston_2018_6_to_12.groupby('district_end').count()\n",
    "boston_2018_12_to_18_end_count = boston_2018_12_to_18.groupby('district_end').count()\n",
    "boston_2018_18_to_24_end_count = boston_2018_18_to_24.groupby('district_end').count()\n",
    "\n",
    "boston_2018_0_to_6_change_count = boston_2018_0_to_6_start_count - boston_2018_0_to_6_end_count\n",
    "boston_2018_6_to_12_change_count = boston_2018_6_to_12_start_count - boston_2018_6_to_12_end_count\n",
    "boston_2018_12_to_18_change_count = boston_2018_12_to_18_start_count - boston_2018_12_to_18_end_count\n",
    "boston_2018_18_to_24_change_count = boston_2018_18_to_24_start_count - boston_2018_18_to_24_end_count\n",
    "boston_2018_0_to_6_change_count"
   ]
  },
  {
   "cell_type": "markdown",
   "metadata": {},
   "source": [
    "### Visualize the difference per district"
   ]
  },
  {
   "cell_type": "code",
   "execution_count": null,
   "metadata": {
    "scrolled": true
   },
   "outputs": [],
   "source": [
    "f, axes = plt.subplots(1, 4, sharey=True, figsize=(20, 10))\n",
    "\n",
    "axes[0].set_title(\"Supply change between 0 and 6 am\")\n",
    "axes[1].set_title(\"Supply change between 6 and 12 am\")\n",
    "axes[2].set_title(\"Supply change between 12 am and 6 pm\")\n",
    "axes[3].set_title(\"Supply change between 6 and 12 pm\")\n",
    "\n",
    "sns.barplot(x = boston_2018_0_to_6_change_count.index, y=\"start_time\", data=boston_2018_0_to_6_change_count, ax=axes[0],palette=\"OrRd\")\n",
    "sns.barplot(x=boston_2018_6_to_12_change_count.index, y=\"start_time\", data=boston_2018_6_to_12_change_count, ax=axes[1],palette=\"OrRd\")\n",
    "sns.barplot(x=boston_2018_12_to_18_change_count.index, y=\"start_time\", data=boston_2018_12_to_18_change_count, ax=axes[2],palette=\"OrRd\")\n",
    "sns.barplot(x=boston_2018_18_to_24_change_count.index, y=\"start_time\", data=boston_2018_18_to_24_change_count, ax=axes[3],palette=\"OrRd\")"
   ]
  },
  {
   "cell_type": "code",
   "execution_count": null,
   "metadata": {},
   "outputs": [],
   "source": [
    "boston_2018_trip_geodata_clean[\"district_route\"] = boston_2018_trip_geodata_clean[\"district_start\"] + \",\" + boston_2018_trip_geodata_clean[\"district_end\"]\n",
    "boston_2018_trip_geodata_clean.head(5)"
   ]
  },
  {
   "cell_type": "code",
   "execution_count": null,
   "metadata": {},
   "outputs": [],
   "source": [
    "f, axes = plt.subplots(2, 2, figsize=(20, 10))\n",
    "\n",
    "axes[0][0].set_title(\"Destinations when starting in Boston\")\n",
    "axes[0][1].set_title(\"Destinations when starting in Cambridge\")\n",
    "axes[1][0].set_title(\"Destinations when starting in Somerville\")\n",
    "axes[1][1].set_title(\"Destinations when starting in Brookline\")\n",
    "sns.countplot(x=\"district_route\",data=boston_2018_trip_geodata_clean[boston_2018_trip_geodata_clean[\"district_start\"] == \"Boston\"], ax=axes[0][0],palette=\"OrRd\")\n",
    "sns.countplot(x=\"district_route\",data=boston_2018_trip_geodata_clean[boston_2018_trip_geodata_clean[\"district_start\"] == \"Cambridge\"], ax=axes[0][1],palette=\"OrRd\")\n",
    "sns.countplot(x=\"district_route\",data=boston_2018_trip_geodata_clean[boston_2018_trip_geodata_clean[\"district_start\"] == \"Somerville\"], ax=axes[1][0],palette=\"OrRd\")\n",
    "sns.countplot(x=\"district_route\",data=boston_2018_trip_geodata_clean[boston_2018_trip_geodata_clean[\"district_start\"] == \"Brookline\"], ax=axes[1][1],palette=\"OrRd\")"
   ]
  },
  {
   "cell_type": "code",
   "execution_count": null,
   "metadata": {},
   "outputs": [],
   "source": [
    "f, axes = plt.subplots(1, 2, sharey=True, figsize=(20, 10))\n",
    "\n",
    "axes[0].set_title(\"Subscriber starting districts\")\n",
    "axes[1].set_title(\"Customer starting districts\")\n",
    "sns.countplot(x=\"district_start\",data=boston_2018_trip_geodata_clean[boston_2018_trip_geodata_clean[\"user_type\"] == \"Subscriber\"], ax=axes[0],palette=\"OrRd\")\n",
    "sns.countplot(x=\"district_start\",data=boston_2018_trip_geodata_clean[boston_2018_trip_geodata_clean[\"user_type\"] == \"Customer\"], ax=axes[1],palette=\"OrRd\")"
   ]
  },
  {
   "cell_type": "markdown",
   "metadata": {},
   "source": [
    "### Timelapse of monthly start locations visualized in a heatmap"
   ]
  },
  {
   "cell_type": "code",
   "execution_count": null,
   "metadata": {},
   "outputs": [],
   "source": [
    "coordinate_list = []\n",
    "\n",
    "for i in range(12):\n",
    "    heat_data2 = []\n",
    "    for element in boston_2018_trip_geodata_clean[boston_2018_trip_geodata_clean[\"month\"] == (i + 1)][\"start_coordinates\"]:\n",
    "        heat_data2.append([float(element[0]), float(element[1])])\n",
    "    coordinate_list.append(heat_data2)"
   ]
  },
  {
   "cell_type": "code",
   "execution_count": null,
   "metadata": {
    "scrolled": true
   },
   "outputs": [],
   "source": [
    "monthly_heat_map = folium.Map(location=(42.76507, -71.25371),  tiles='Stamen Toner', \n",
    "                       zoom_start=9, control_scale=True, max_zoom=20)\n",
    "\n",
    "monthly_heat_map.add_child(plugins.HeatMapWithTime(data=coordinate_list, use_local_extrema=False, radius=25))\n",
    "monthly_heat_map"
   ]
  },
  {
   "cell_type": "markdown",
   "metadata": {},
   "source": [
    "## Duration (KPI)"
   ]
  },
  {
   "cell_type": "code",
   "execution_count": null,
   "metadata": {},
   "outputs": [],
   "source": [
    "import numpy as np"
   ]
  },
  {
   "cell_type": "code",
   "execution_count": null,
   "metadata": {},
   "outputs": [],
   "source": [
    "def get_datetime(x):\n",
    "    return datetime.strptime(x, \"%Y-%m-%d %H:%M:%S\")\n",
    "    \n",
    "boston_2018_data_clean['datetime_start'] = boston_2018_data_clean['start_time'].apply(lambda x: get_datetime(x))\n",
    "boston_2018_data_clean['datetime_end'] = boston_2018_data_clean['end_time'].apply(lambda x: get_datetime(x))"
   ]
  },
  {
   "cell_type": "code",
   "execution_count": null,
   "metadata": {},
   "outputs": [],
   "source": [
    "boston_2018_data_clean['duration'] = boston_2018_data_clean['datetime_end'] - boston_2018_data_clean['datetime_start']\n",
    "boston_2018_data_clean.head(10)"
   ]
  },
  {
   "cell_type": "code",
   "execution_count": null,
   "metadata": {},
   "outputs": [],
   "source": [
    "def get_seconds(x):\n",
    "    return x.total_seconds()\n",
    "\n",
    "boston_2018_data_clean['seconds'] = boston_2018_data_clean['duration'].apply(lambda x: get_seconds(x))\n",
    "boston_2018_data_clean.head(5)"
   ]
  },
  {
   "cell_type": "code",
   "execution_count": null,
   "metadata": {},
   "outputs": [],
   "source": [
    "total_duration_per_trip = np.empty(24)\n",
    "total_duration_per_hour = np.empty(24)\n",
    "total_amount_of_trips = np.empty(24)\n",
    "for i in range(24):\n",
    "    total_duration_per_trip[i] = boston_2018_data_clean[boston_2018_data_clean[\"hour\"] == i][\"seconds\"].median()\n",
    "    total_duration_per_hour[i] = boston_2018_data_clean[boston_2018_data_clean[\"hour\"] == i][\"seconds\"].sum()\n",
    "    total_amount_of_trips[i] = boston_2018_data_clean[boston_2018_data_clean[\"hour\"] == i][\"seconds\"].count()"
   ]
  },
  {
   "cell_type": "code",
   "execution_count": null,
   "metadata": {},
   "outputs": [],
   "source": [
    "total_amount_of_trips"
   ]
  },
  {
   "cell_type": "code",
   "execution_count": null,
   "metadata": {},
   "outputs": [],
   "source": [
    "duration_per_trip = np.divide(total_duration_per_trip, 60)\n",
    "duration_per_trip"
   ]
  },
  {
   "cell_type": "code",
   "execution_count": null,
   "metadata": {},
   "outputs": [],
   "source": [
    "total_duration_per_hour = np.divide(total_duration_per_hour, 60 * 60)\n",
    "total_duration_per_hour"
   ]
  },
  {
   "cell_type": "code",
   "execution_count": null,
   "metadata": {},
   "outputs": [],
   "source": [
    "duration_per_trip_data = pd.DataFrame(duration_per_trip, columns=['minutes'])\n",
    "total_duration_per_hour_data = pd.DataFrame(total_duration_per_hour, columns=['hours'])\n",
    "amount_of_trips_data = pd.DataFrame(total_amount_of_trips, columns=['amount'])\n",
    "\n",
    "f, axes = plt.subplots(3, 1, figsize=(20, 20))\n",
    "\n",
    "sns.barplot(x = total_duration_per_hour_data.index , y=\"hours\", data=total_duration_per_hour_data, ax=axes[0],palette=\"OrRd\")\n",
    "axes[0].set_title(\"Total hours travelled per hour throughout the year\")\n",
    "sns.barplot(x = amount_of_trips_data.index , y=\"amount\", data=amount_of_trips_data, ax=axes[1],palette=\"OrRd\")\n",
    "axes[1].set_title(\"Amount of trips per hour throughout the year\")\n",
    "sns.barplot(x = duration_per_trip_data.index , y=\"minutes\", data=duration_per_trip_data, ax=axes[2],palette=\"OrRd\")\n",
    "axes[2].set_title(\"Median duration of trip per hour throughout the year\")"
   ]
  },
  {
   "cell_type": "markdown",
   "metadata": {},
   "source": [
    "# IRRELEVANT STUFF:"
   ]
  },
  {
   "cell_type": "markdown",
   "metadata": {},
   "source": [
    "### Subscriber/Customer Ratio (KPI)"
   ]
  },
  {
   "cell_type": "markdown",
   "metadata": {},
   "source": [
    "### Most popular / least popular stations / Demand per station (KPI)"
   ]
  },
  {
   "cell_type": "markdown",
   "metadata": {},
   "source": [
    "### Temperature?"
   ]
  },
  {
   "cell_type": "markdown",
   "metadata": {},
   "source": [
    "### Trips per bike "
   ]
  },
  {
   "cell_type": "markdown",
   "metadata": {},
   "source": [
    "## Usage (KPI)"
   ]
  },
  {
   "cell_type": "markdown",
   "metadata": {},
   "source": [
    "### Usage per unique bike"
   ]
  },
  {
   "cell_type": "code",
   "execution_count": null,
   "metadata": {},
   "outputs": [],
   "source": [
    "total_number_of_bikes = len(boston_2018_data_clean[\"bike_id\"].unique())\n",
    "number_of_bikes_per_hour = np.empty(24)\n",
    "number_of_total_bikes_per_hour = np.empty(24)\n",
    "for i in range(24):\n",
    "    number_of_bikes_per_hour[i] = len(boston_2018_data_clean[boston_2018_data_clean[\"hour\"] == i][\"bike_id\"].unique())\n",
    "    number_of_total_bikes_per_hour[i] = len(boston_2018_data_clean[boston_2018_data_clean[\"hour\"] == i][\"bike_id\"])\n",
    "number_of_bikes_per_hour_dataframe = pd.DataFrame(number_of_bikes_per_hour, columns=['count'])\n",
    "number_of_bikes_per_hour_relative_dataframe = np.divide(number_of_bikes_per_hour_dataframe, total_number_of_bikes_per_hour)\n",
    "number_of_bikes_per_hour_relative_dataframe"
   ]
  },
  {
   "cell_type": "code",
   "execution_count": null,
   "metadata": {},
   "outputs": [],
   "source": [
    "f, axes = plt.subplots(1, 1, sharey=True, figsize=(20, 10))\n",
    "\n",
    "sns.barplot(x = number_of_bikes_per_hour_relative_dataframe.index , y=\"count\", data=number_of_bikes_per_hour_relative_dataframe, ax=axes,palette=\"OrRd\")"
   ]
  },
  {
   "cell_type": "code",
   "execution_count": null,
   "metadata": {
    "scrolled": true
   },
   "outputs": [],
   "source": [
    "start_location_heat_map = folium.Map(location=(42.76507, -71.25371),  tiles='Stamen Toner', \n",
    "                       zoom_start=9, control_scale=True, max_zoom=20)\n",
    "\n",
    "start_location_heat_map.add_child(plugins.HeatMap(boston_2018_trip_geodata_clean[\"start_coordinates\"], radius=20))\n",
    "start_location_heat_map"
   ]
  },
  {
   "cell_type": "code",
   "execution_count": null,
   "metadata": {},
   "outputs": [],
   "source": [
    "end_location_heat_map = folium.Map(location=(42.76507, -71.25371),  tiles='Stamen Toner', \n",
    "                       zoom_start=9, control_scale=True, max_zoom=20)\n",
    "\n",
    "end_location_heat_map.add_child(plugins.HeatMap(boston_2018_trip_geodata_clean[\"start_coordinates\"], radius=20))\n",
    "end_location_heat_map"
   ]
  },
  {
   "cell_type": "code",
   "execution_count": null,
   "metadata": {},
   "outputs": [],
   "source": [
    "night_location_heat_map = folium.Map(location=(42.76507, -71.25371),  tiles='Stamen Toner', \n",
    "                       zoom_start=9, control_scale=True, max_zoom=20)\n",
    "\n",
    "night_location_heat_map.add_child(plugins.HeatMap(boston_2018_trip_geodata_clean[(boston_2018_trip_geodata_clean[\"hour\"] > 20) | (boston_2018_trip_geodata_clean[\"hour\"] < 5)][\"start_coordinates\"], radius=20))\n",
    "night_location_heat_map.add_child(plugins.HeatMap(boston_2018_trip_geodata_clean[(boston_2018_trip_geodata_clean[\"hour\"] > 20) | (boston_2018_trip_geodata_clean[\"hour\"] < 5)][\"end_coordinates\"], radius=20))\n",
    "\n",
    "\n",
    "night_location_heat_map"
   ]
  },
  {
   "cell_type": "code",
   "execution_count": null,
   "metadata": {},
   "outputs": [],
   "source": [
    "day_location_heat_map = folium.Map(location=(42.76507, -71.25371),  tiles='Stamen Toner', \n",
    "                       zoom_start=9, control_scale=True, max_zoom=20)\n",
    "\n",
    "day_location_heat_map.add_child(plugins.HeatMap(boston_2018_trip_geodata_clean[(boston_2018_trip_geodata_clean[\"hour\"] <= 20) | (boston_2018_trip_geodata_clean[\"hour\"] >= 5)][\"start_coordinates\"], radius=20))\n",
    "day_location_heat_map.add_child(plugins.HeatMap(boston_2018_trip_geodata_clean[(boston_2018_trip_geodata_clean[\"hour\"] <= 20) | (boston_2018_trip_geodata_clean[\"hour\"] >= 5)][\"end_coordinates\"], radius=20))\n",
    "\n",
    "day_location_heat_map"
   ]
  },
  {
   "cell_type": "code",
   "execution_count": null,
   "metadata": {},
   "outputs": [],
   "source": [
    "summer_location_heat_map = folium.Map(location=(42.76507, -71.25371),  tiles='Stamen Toner', \n",
    "                       zoom_start=9, control_scale=True, max_zoom=20)\n",
    "\n",
    "summer_location_heat_map.add_child(plugins.HeatMap(boston_2018_trip_geodata_clean[(boston_2018_trip_geodata_clean[\"month\"] > 2) | (boston_2018_trip_geodata_clean[\"hour\"] <= 7)][\"start_coordinates\"], radius=20))\n",
    "summer_location_heat_map.add_child(plugins.HeatMap(boston_2018_trip_geodata_clean[(boston_2018_trip_geodata_clean[\"month\"] > 2) | (boston_2018_trip_geodata_clean[\"hour\"] <= 7)][\"end_coordinates\"], radius=20))\n",
    "\n",
    "summer_location_heat_map"
   ]
  },
  {
   "cell_type": "code",
   "execution_count": null,
   "metadata": {
    "scrolled": false
   },
   "outputs": [],
   "source": [
    "winter_location_heat_map = folium.Map(location=(42.76507, -71.25371),  tiles='Stamen Toner', \n",
    "                       zoom_start=9, control_scale=True, max_zoom=20)\n",
    "\n",
    "winter_location_heat_map.add_child(plugins.HeatMap(boston_2018_trip_geodata_clean[(boston_2018_trip_geodata_clean[\"month\"] <= 2) | (boston_2018_trip_geodata_clean[\"month\"] > 7)][\"start_coordinates\"], radius=20))\n",
    "winter_location_heat_map.add_child(plugins.HeatMap(boston_2018_trip_geodata_clean[(boston_2018_trip_geodata_clean[\"month\"] <= 2) | (boston_2018_trip_geodata_clean[\"month\"] > 7)][\"end_coordinates\"], radius=20))\n",
    "\n",
    "winter_location_heat_map"
   ]
  }
 ],
 "metadata": {
  "kernelspec": {
   "display_name": "Python 3",
   "language": "python",
   "name": "python3"
  },
  "language_info": {
   "codemirror_mode": {
    "name": "ipython",
    "version": 3
   },
   "file_extension": ".py",
   "mimetype": "text/x-python",
   "name": "python",
   "nbconvert_exporter": "python",
   "pygments_lexer": "ipython3",
   "version": "3.8.5"
  }
 },
 "nbformat": 4,
 "nbformat_minor": 4
}
